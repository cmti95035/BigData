{
 "metadata": {
  "name": "",
  "signature": "sha256:cdd42ad6e5a0bbdd14a7347383dce4189af7e5c759b2835ab8b7e4e151f52953"
 },
 "nbformat": 3,
 "nbformat_minor": 0,
 "worksheets": [
  {
   "cells": [
    {
     "cell_type": "code",
     "collapsed": false,
     "input": [
      "%matplotlib inline"
     ],
     "language": "python",
     "metadata": {},
     "outputs": [],
     "prompt_number": 1
    },
    {
     "cell_type": "code",
     "collapsed": true,
     "input": [
      "\"\"\"\n",
      "A deep neural network with or w/o dropout in one notebook.\n",
      "\n",
      "To train the networks you just need to call the run() function\n",
      "You need to run each cell before doing so.\n",
      "To do so, you can go to \"Cell -> Run All\"\n",
      "Feel free to edit individually each cell and rerun modified ones.\n",
      "\n",
      "You can change global parameters here before running\n",
      "\"\"\"\n",
      "\n",
      "# Which experiment to run\n",
      "MNIST = True\n",
      "DIGITS = False\n",
      "FACES = False\n",
      "TWENTYNEWSGROUPS = False\n",
      "\n",
      "BATCH_SIZE = 100  # default batch size\n",
      "L2_LAMBDA = 1.    # default L2 regularization parameter\n",
      "INIT_LR = 0.01    # initial learning rate, try making it larger"
     ],
     "language": "python",
     "metadata": {},
     "outputs": [],
     "prompt_number": 2
    },
    {
     "cell_type": "code",
     "collapsed": true,
     "input": [
      "import numpy\n",
      "import theano\n",
      "import sys\n",
      "import math\n",
      "from theano import tensor as T\n",
      "from theano import shared\n",
      "from theano.tensor.shared_randomstreams import RandomStreams\n",
      "from collections import OrderedDict"
     ],
     "language": "python",
     "metadata": {},
     "outputs": [],
     "prompt_number": 3
    },
    {
     "cell_type": "code",
     "collapsed": true,
     "input": [
      "#Activation and helper functions\n",
      "\n",
      "def relu_f(vec):\n",
      "    \"\"\" Wrapper to quickly change the rectified linear unit function \"\"\"\n",
      "    return (vec + abs(vec)) / 2.\n",
      "\n",
      "\n",
      "def softplus_f(v):\n",
      "    return T.log(1 + T.exp(v))\n",
      "\n",
      "\n",
      "def dropout(rng, x, p=0.5):\n",
      "    \"\"\" Zero-out random values in x with probability p using rng \"\"\"\n",
      "    if p > 0. and p < 1.:\n",
      "        seed = rng.randint(2 ** 30)\n",
      "        srng = theano.tensor.shared_randomstreams.RandomStreams(seed)\n",
      "        mask = srng.binomial(n=1, p=1.-p, size=x.shape,\n",
      "                dtype=theano.config.floatX)\n",
      "        return x * mask\n",
      "    return x\n",
      "\n",
      "\n",
      "def build_shared_zeros(shape, name):\n",
      "    \"\"\" Builds a theano shared variable filled with a zeros numpy array \"\"\"\n",
      "    return shared(value=numpy.zeros(shape, dtype=theano.config.floatX),\n",
      "            name=name, borrow=True)\n",
      "\n",
      "\n",
      "class Linear(object):\n",
      "    \"\"\" Basic linear transformation layer (W.X + b) \"\"\"\n",
      "    def __init__(self, rng, input, n_in, n_out, W=None, b=None):\n",
      "        if W is None:\n",
      "            W_values = numpy.asarray(rng.uniform(\n",
      "                low=-numpy.sqrt(6. / (n_in + n_out)),\n",
      "                high=numpy.sqrt(6. / (n_in + n_out)),\n",
      "                size=(n_in, n_out)), dtype=theano.config.floatX)\n",
      "            W_values *= 4  # This works for sigmoid activated networks!\n",
      "            W = theano.shared(value=W_values, name='W', borrow=True)\n",
      "        if b is None:\n",
      "            b = build_shared_zeros((n_out,), 'b')\n",
      "        self.input = input\n",
      "        self.W = W\n",
      "        self.b = b\n",
      "        self.params = [self.W, self.b]\n",
      "        self.output = T.dot(self.input, self.W) + self.b\n",
      "\n",
      "    def __repr__(self):\n",
      "        return \"Linear\"\n",
      "\n",
      "\n",
      "class SigmoidLayer(Linear):\n",
      "    \"\"\" Sigmoid activation layer (sigmoid(W.X + b)) \"\"\"\n",
      "    def __init__(self, rng, input, n_in, n_out, W=None, b=None):\n",
      "        super(SigmoidLayer, self).__init__(rng, input, n_in, n_out, W, b)\n",
      "        self.pre_activation = self.output\n",
      "        self.output = T.nnet.sigmoid(self.pre_activation)\n",
      "\n",
      "\n",
      "class ReLU(Linear):\n",
      "    \"\"\" Rectified Linear Unit activation layer (max(0, W.X + b)) \"\"\"\n",
      "    def __init__(self, rng, input, n_in, n_out, W=None, b=None):\n",
      "        if b is None:\n",
      "            b = build_shared_zeros((n_out,), 'b')\n",
      "        super(ReLU, self).__init__(rng, input, n_in, n_out, W, b)\n",
      "        self.pre_activation = self.output\n",
      "        self.output = relu_f(self.pre_activation)\n",
      "\n",
      "\n",
      "class SoftPlus(Linear):\n",
      "    def __init__(self, rng, input, n_in, n_out, W=None, b=None):\n",
      "        if b is None:\n",
      "            b_values = numpy.zeros((n_out,), dtype=theano.config.floatX)\n",
      "            b = theano.shared(value=b_values, name='b', borrow=True)\n",
      "        super(SoftPlus, self).__init__(rng, input, n_in, n_out, W, b)\n",
      "        self.pre_activation = self.output\n",
      "        self.output = softplus_f(self.pre_activation)\n",
      "\n",
      "\n",
      "class DatasetMiniBatchIterator(object):\n",
      "    \"\"\" Basic mini-batch iterator \"\"\"\n",
      "    def __init__(self, x, y, batch_size=BATCH_SIZE, randomize=False):\n",
      "        self.x = x\n",
      "        self.y = y\n",
      "        self.batch_size = batch_size\n",
      "        self.randomize = randomize\n",
      "        from sklearn.utils import check_random_state\n",
      "        self.rng = check_random_state(42)\n",
      "\n",
      "    def __iter__(self):\n",
      "        n_samples = self.x.shape[0]\n",
      "        if self.randomize:\n",
      "            for _ in xrange(n_samples / BATCH_SIZE):\n",
      "                if BATCH_SIZE > 1:\n",
      "                    i = int(self.rng.rand(1) * ((n_samples+BATCH_SIZE-1) / BATCH_SIZE))\n",
      "                else:\n",
      "                    i = int(math.floor(self.rng.rand(1) * n_samples))\n",
      "                yield (i, self.x[i*self.batch_size:(i+1)*self.batch_size],\n",
      "                       self.y[i*self.batch_size:(i+1)*self.batch_size])\n",
      "        else:\n",
      "            for i in xrange((n_samples + self.batch_size - 1)\n",
      "                            / self.batch_size):\n",
      "                yield (self.x[i*self.batch_size:(i+1)*self.batch_size],\n",
      "                       self.y[i*self.batch_size:(i+1)*self.batch_size])\n",
      "\n"
     ],
     "language": "python",
     "metadata": {},
     "outputs": [],
     "prompt_number": 4
    },
    {
     "cell_type": "code",
     "collapsed": false,
     "input": [
      "class LogisticRegression:\n",
      "    \"\"\" _Multi-class_ Logistic Regression \"\"\"\n",
      "    def __init__(self, rng, input, n_in, n_out, W=None, b=None):\n",
      "        if W != None:\n",
      "            self.W = W\n",
      "        else:\n",
      "            self.W = build_shared_zeros((n_in, n_out), 'W')\n",
      "        if b != None:\n",
      "            self.b = b\n",
      "        else:\n",
      "            self.b = build_shared_zeros((n_out,), 'b')\n",
      "        self.input = input\n",
      "        self.p_y_given_x = T.nnet.softmax(T.dot(self.input, self.W) + self.b)\n",
      "        self.y_pred = T.argmax(self.p_y_given_x, axis=1)\n",
      "        self.output = self.y_pred\n",
      "        self.params = [self.W, self.b]\n",
      "\n",
      "    def negative_log_likelihood(self, y):\n",
      "        return -T.mean(T.log(self.p_y_given_x)[T.arange(y.shape[0]), y])\n",
      "\n",
      "    def negative_log_likelihood_sum(self, y):\n",
      "        return -T.sum(T.log(self.p_y_given_x)[T.arange(y.shape[0]), y])\n",
      "\n",
      "    def training_cost(self, y):\n",
      "        \"\"\" Wrapper for standard name \"\"\"\n",
      "        return self.negative_log_likelihood(y)\n",
      "\n",
      "    def errors(self, y):\n",
      "        if y.ndim != self.y_pred.ndim:\n",
      "            raise TypeError(\"!!! 'y' should have the same shape as 'self.y_pred'\",\n",
      "                (\"y\", y.type, \"y_pred\", self.y_pred.type))\n",
      "        if y.dtype.startswith('int'):\n",
      "            return T.mean(T.neq(self.y_pred, y))\n",
      "        else:\n",
      "            print(\"!!! y should be of int type\")\n",
      "            return T.mean(T.neq(self.y_pred, numpy.asarray(y, dtype='int')))\n",
      "        \n",
      "        \n",
      "#class PerceptronLoss: # TODO"
     ],
     "language": "python",
     "metadata": {},
     "outputs": [],
     "prompt_number": 5
    },
    {
     "cell_type": "code",
     "collapsed": false,
     "input": [
      "class NeuralNet(object):\n",
      "    \"\"\" Neural network (not regularized, without dropout) \"\"\"\n",
      "    def __init__(self, numpy_rng, theano_rng=None, \n",
      "                 n_ins=40*3,\n",
      "                 layers_types=[ReLU, ReLU, ReLU, ReLU, LogisticRegression],\n",
      "                 layers_sizes=[1024, 1024, 1024, 1024],\n",
      "                 n_outs=62*3,\n",
      "                 rho=0.95, eps=1.E-6,\n",
      "                 momentum=0.9, step_adapt_alpha=1.E-4,\n",
      "                 b1=0.1, b2=0.001,\n",
      "                 debugprint=False):\n",
      "        \"\"\"\n",
      "        Basic Neural Net class\n",
      "        \"\"\"\n",
      "        self.layers = []\n",
      "        self.params = []\n",
      "        self.n_layers = len(layers_types)\n",
      "        self.layers_types = layers_types\n",
      "        assert self.n_layers > 0\n",
      "        self._rho = rho  # ``momentum'' for adadelta (and discount/decay for RMSprop), alpha for Adam\n",
      "        self._eps = eps  # epsilon for adadelta (and for RMSprop and Adam)\n",
      "        self._momentum = momentum  # for RMSProp\n",
      "        self._b1 = b1\n",
      "        self._b2 = b2\n",
      "        self._accugrads = []  # for adadelta\n",
      "        self._accudeltas = []  # for adadelta\n",
      "        self._avggrads = []  # for RMSprop in the Alex Graves' variant\n",
      "        self._stepadapts = []  # for RMSprop with step adaptations\n",
      "        self._stepadapt_alpha = step_adapt_alpha\n",
      "\n",
      "        if theano_rng == None:\n",
      "            theano_rng = RandomStreams(numpy_rng.randint(2 ** 30))\n",
      "\n",
      "        self.x = T.fmatrix('x')\n",
      "        self.y = T.ivector('y')\n",
      "        \n",
      "        self.layers_ins = [n_ins] + layers_sizes\n",
      "        self.layers_outs = layers_sizes + [n_outs]\n",
      "        \n",
      "        layer_input = self.x\n",
      "        \n",
      "        for layer_type, n_in, n_out in zip(layers_types,\n",
      "                self.layers_ins, self.layers_outs):\n",
      "            this_layer = layer_type(rng=numpy_rng,\n",
      "                    input=layer_input, n_in=n_in, n_out=n_out)\n",
      "            assert hasattr(this_layer, 'output')\n",
      "            self.params.extend(this_layer.params)\n",
      "            self._accugrads.extend([build_shared_zeros(t.shape.eval(),\n",
      "                'accugrad') for t in this_layer.params])\n",
      "            self._accudeltas.extend([build_shared_zeros(t.shape.eval(),\n",
      "                'accudelta') for t in this_layer.params])\n",
      "            self._avggrads.extend([build_shared_zeros(t.shape.eval(),\n",
      "                'avggrad') for t in this_layer.params])\n",
      "            self._stepadapts.extend([shared(value=numpy.ones(t.shape.eval(),\n",
      "                dtype=theano.config.floatX),\n",
      "                name='stepadapt', borrow=True) for t in this_layer.params])\n",
      "            self.layers.append(this_layer)\n",
      "            layer_input = this_layer.output\n",
      "\n",
      "        assert hasattr(self.layers[-1], 'training_cost')\n",
      "        assert hasattr(self.layers[-1], 'errors')\n",
      "        self.mean_cost = self.layers[-1].negative_log_likelihood(self.y)\n",
      "        self.cost = self.layers[-1].training_cost(self.y)\n",
      "        if debugprint:\n",
      "            theano.printing.debugprint(self.cost)\n",
      "\n",
      "        self.errors = self.layers[-1].errors(self.y)\n",
      "\n",
      "    def __repr__(self):\n",
      "        dimensions_layers_str = map(lambda x: \"x\".join(map(str, x)),\n",
      "                                    zip(self.layers_ins, self.layers_outs))\n",
      "        return \"_\".join(map(lambda x: \"_\".join((x[0].__name__, x[1])),\n",
      "                            zip(self.layers_types, dimensions_layers_str)))\n",
      "\n",
      "\n",
      "    def get_SGD_trainer(self):\n",
      "        \"\"\" Returns a plain SGD minibatch trainer with learning rate as param. \"\"\"\n",
      "        batch_x = T.fmatrix('batch_x')\n",
      "        batch_y = T.ivector('batch_y')\n",
      "        learning_rate = T.fscalar('lr')  # learning rate\n",
      "        gparams = T.grad(self.mean_cost, self.params)  # all the gradients\n",
      "        updates = OrderedDict()\n",
      "        for param, gparam in zip(self.params, gparams):\n",
      "            updates[param] = param - gparam * learning_rate\n",
      "\n",
      "        train_fn = theano.function(inputs=[theano.Param(batch_x),\n",
      "                                           theano.Param(batch_y),\n",
      "                                           theano.Param(learning_rate)],\n",
      "                                   outputs=self.mean_cost,\n",
      "                                   updates=updates,\n",
      "                                   givens={self.x: batch_x, self.y: batch_y})\n",
      "\n",
      "        return train_fn\n",
      "\n",
      "    def get_adagrad_trainer(self):\n",
      "        \"\"\" Returns an Adagrad (Duchi et al. 2010) trainer using a learning rate.\n",
      "        \"\"\"\n",
      "        batch_x = T.fmatrix('batch_x')\n",
      "        batch_y = T.ivector('batch_y')\n",
      "        learning_rate = T.fscalar('lr')  # learning rate\n",
      "        gparams = T.grad(self.mean_cost, self.params)  # all the gradients\n",
      "        updates = OrderedDict()\n",
      "        for accugrad, param, gparam in zip(self._accugrads, self.params, gparams):\n",
      "            # c.f. Algorithm 1 in the Adadelta paper (Zeiler 2012)\n",
      "            agrad = accugrad + gparam * gparam\n",
      "            dx = - (learning_rate / T.sqrt(agrad + self._eps)) * gparam\n",
      "            updates[param] = param + dx\n",
      "            updates[accugrad] = agrad\n",
      "\n",
      "        train_fn = theano.function(inputs=[theano.Param(batch_x), \n",
      "            theano.Param(batch_y),\n",
      "            theano.Param(learning_rate)],\n",
      "            outputs=self.mean_cost,\n",
      "            updates=updates,\n",
      "            givens={self.x: batch_x, self.y: batch_y})\n",
      "\n",
      "        return train_fn\n",
      "\n",
      "    def get_adadelta_trainer(self):\n",
      "        \"\"\" Returns an Adadelta (Zeiler 2012) trainer using self._rho and\n",
      "        self._eps params. \"\"\"\n",
      "        batch_x = T.fmatrix('batch_x')\n",
      "        batch_y = T.ivector('batch_y')\n",
      "        gparams = T.grad(self.mean_cost, self.params)\n",
      "        updates = OrderedDict()\n",
      "        for accugrad, accudelta, param, gparam in zip(self._accugrads,\n",
      "                self._accudeltas, self.params, gparams):\n",
      "            # c.f. Algorithm 1 in the Adadelta paper (Zeiler 2012)\n",
      "            agrad = self._rho * accugrad + (1 - self._rho) * gparam * gparam\n",
      "            dx = - T.sqrt((accudelta + self._eps)\n",
      "                          / (agrad + self._eps)) * gparam\n",
      "            updates[accudelta] = (self._rho * accudelta\n",
      "                                  + (1 - self._rho) * dx * dx)\n",
      "            updates[param] = param + dx\n",
      "            updates[accugrad] = agrad\n",
      "\n",
      "        train_fn = theano.function(inputs=[theano.Param(batch_x),\n",
      "                                           theano.Param(batch_y)],\n",
      "                                   outputs=self.mean_cost,\n",
      "                                   updates=updates,\n",
      "                                   givens={self.x: batch_x, self.y: batch_y})\n",
      "\n",
      "        return train_fn\n",
      "\n",
      "    def get_rmsprop_trainer(self, with_step_adapt=True, nesterov=False):  # TODO Nesterov momentum\n",
      "        \"\"\" Returns an RmsProp (possibly Nesterov) (Sutskever 2013) trainer\n",
      "        using self._rho, self._eps and self._momentum params. \"\"\"\n",
      "        batch_x = T.fmatrix('batch_x')\n",
      "        batch_y = T.ivector('batch_y')\n",
      "        learning_rate = T.fscalar('lr')  # learning rate\n",
      "        gparams = T.grad(self.mean_cost, self.params)\n",
      "        updates = OrderedDict()\n",
      "        for accugrad, avggrad, accudelta, sa, param, gparam in zip(\n",
      "                self._accugrads, self._avggrads, self._accudeltas,\n",
      "                self._stepadapts, self.params, gparams):\n",
      "            acc_grad = self._rho * accugrad + (1 - self._rho) * gparam * gparam\n",
      "            avg_grad = self._rho * avggrad + (1 - self._rho) * gparam  # this decay/discount (self._rho) should differ from the one of the line above\n",
      "            ###scaled_grad = gparam / T.sqrt(acc_grad + self._eps)  # original RMSprop gradient scaling\n",
      "            scaled_grad = gparam / T.sqrt(acc_grad - avg_grad**2 + self._eps)  # Alex Graves' RMSprop variant (divide by a \"running stddev\" of the updates)\n",
      "            if with_step_adapt:\n",
      "                incr = sa * (1. + self._stepadapt_alpha)\n",
      "                #decr = sa * (1. - self._stepadapt_alpha)\n",
      "                decr = sa * (1. - 2*self._stepadapt_alpha)\n",
      "                ###steps = sa * T.switch(accudelta * -gparam >= 0, incr, decr)\n",
      "                steps = T.clip(T.switch(accudelta * -gparam >= 0, incr, decr), self._eps, 1./self._eps)  # bad overloading of self._eps!\n",
      "                scaled_grad = steps * scaled_grad\n",
      "                updates[sa] = steps\n",
      "            dx = self._momentum * accudelta - learning_rate * scaled_grad\n",
      "            updates[param] = param + dx\n",
      "            updates[accugrad] = acc_grad\n",
      "            updates[avggrad] = avg_grad\n",
      "            updates[accudelta] = dx\n",
      "\n",
      "        train_fn = theano.function(inputs=[theano.Param(batch_x),\n",
      "                                           theano.Param(batch_y),\n",
      "                                           theano.Param(learning_rate)],\n",
      "                                   outputs=self.mean_cost,\n",
      "                                   updates=updates,\n",
      "                                   givens={self.x: batch_x, self.y: batch_y})\n",
      "\n",
      "        return train_fn\n",
      "    \n",
      "    def get_adam_trainer(self):\n",
      "        \"\"\" Returns an Adam trainer as described in \n",
      "        ADAM: A METHOD FOR STOCHASTIC OPTIMIZATION, Kingma and Ba 2015 \"\"\"\n",
      "        batch_x = T.fmatrix('batch_x')\n",
      "        batch_y = T.ivector('batch_y')\n",
      "        self._i_t = shared(np.float32(0.))\n",
      "        self.lr = 0.0002\n",
      "        i_t = self._i_t + 1.\n",
      "        fix1 = 1. - (1. - self._b1)**i_t\n",
      "        fix2 = 1. - (1. - self._b2)**i_t\n",
      "        lr_t = self.lr * (T.sqrt(fix2) / fix1)\n",
      "        gparams = T.grad(self.mean_cost, self.params)\n",
      "        updates = OrderedDict()\n",
      "        for accugrad, accudelta, param, gparam in zip(self._accugrads, self._accudeltas, self.params, gparams):\n",
      "            m_t = (self._b1 * gparam) + ((1. - self._b1) * accugrad)\n",
      "            v_t = (self._b2 * T.sqr(gparam)) + ((1. - self._b2) * accudelta)\n",
      "            #m_t_h = m_t / (1 - (1-self._b1)**i_t)\n",
      "            #v_t_h = v_t / (1 - (1-self._b2)**i_t)\n",
      "            #g_t = m_t_h / (T.sqrt(v_t_h) + self._eps)\n",
      "            g_t = m_t / (T.sqrt(v_t) + self._eps)\n",
      "            updates[param] = param - (lr_t * g_t)\n",
      "            updates[accugrad] = m_t\n",
      "            updates[accudelta] = v_t\n",
      "        updates[self._i_t] = i_t\n",
      "        \n",
      "        train_fn = theano.function(inputs=[theano.Param(batch_x),\n",
      "                                           theano.Param(batch_y)],\n",
      "                                   outputs=self.mean_cost,\n",
      "                                   updates=updates,\n",
      "                                   givens={self.x: batch_x, self.y: batch_y})\n",
      "\n",
      "        return train_fn\n",
      "        \n",
      "\n",
      "    def score_classif(self, given_set):\n",
      "        \"\"\" Returns functions to get current classification errors. \"\"\"\n",
      "        batch_x = T.fmatrix('batch_x')\n",
      "        batch_y = T.ivector('batch_y')\n",
      "        score = theano.function(inputs=[theano.Param(batch_x),\n",
      "                                        theano.Param(batch_y)],\n",
      "                                outputs=self.errors,\n",
      "                                givens={self.x: batch_x, self.y: batch_y})\n",
      "\n",
      "        def scoref():\n",
      "            \"\"\" returned function that scans the entire set given as input \"\"\"\n",
      "            return [score(batch_x, batch_y) for batch_x, batch_y in given_set]\n",
      "\n",
      "        return scoref\n"
     ],
     "language": "python",
     "metadata": {},
     "outputs": [],
     "prompt_number": 12
    },
    {
     "cell_type": "code",
     "collapsed": false,
     "input": [
      "class RegularizedNet(NeuralNet):\n",
      "    \"\"\" Neural net with L1 and L2 regularization \"\"\"\n",
      "    def __init__(self, numpy_rng, theano_rng=None,\n",
      "                 n_ins=100,\n",
      "                 layers_types=[ReLU, ReLU, ReLU, LogisticRegression],\n",
      "                 layers_sizes=[1024, 1024, 1024],\n",
      "                 n_outs=2,\n",
      "                 rho=0.95, eps=1.E-8,\n",
      "                 L1_reg=0.1,\n",
      "                 L2_reg=0.1,\n",
      "                 debugprint=False):\n",
      "        \"\"\"\n",
      "        A deep neural net with possible L1 and/or L2 regularization.\n",
      "        \"\"\"\n",
      "        super(RegularizedNet, self).__init__(numpy_rng, theano_rng, n_ins,\n",
      "                layers_types, layers_sizes, n_outs, rho, eps, debugprint)\n",
      "\n",
      "        self.L1_reg = L1_reg\n",
      "        self.L2_reg = L2_reg\n",
      "        L1 = shared(0.)\n",
      "        for param in self.params:\n",
      "            L1 += T.sum(abs(param))\n",
      "        if L1_reg > 0.:\n",
      "            self.cost = self.cost + L1_reg * L1\n",
      "        L2 = shared(0.)\n",
      "        for param in self.params:\n",
      "            L2 += T.sum(param ** 2)\n",
      "        if L2_reg > 0.:\n",
      "            self.cost = self.cost + L2_reg * L2\n"
     ],
     "language": "python",
     "metadata": {},
     "outputs": [],
     "prompt_number": 18
    },
    {
     "cell_type": "code",
     "collapsed": false,
     "input": [
      "class DropoutNet(NeuralNet):\n",
      "    \"\"\" Neural net with dropout (see Hinton's et al. paper) \"\"\"\n",
      "    def __init__(self, numpy_rng, theano_rng=None,\n",
      "                 n_ins=40*3,\n",
      "                 layers_types=[ReLU, ReLU, ReLU, ReLU, LogisticRegression],\n",
      "                 layers_sizes=[4000, 4000, 4000, 4000],\n",
      "                 dropout_rates=[0.2, 0.5, 0.5, 0.5, 0.5],\n",
      "                 n_outs=62 * 3,\n",
      "                 rho=0.98, eps=1.E-6,\n",
      "                 debugprint=False):\n",
      "        \"\"\"\n",
      "        A dropout-regularized neural net.\n",
      "        \"\"\"\n",
      "        super(DropoutNet, self).__init__(numpy_rng, theano_rng, n_ins,\n",
      "                layers_types, layers_sizes, n_outs, rho, eps, debugprint)\n",
      "\n",
      "        self.dropout_rates = dropout_rates\n",
      "        dropout_layer_input = dropout(numpy_rng, self.x, p=dropout_rates[0])\n",
      "        self.dropout_layers = []\n",
      "\n",
      "        for layer, layer_type, n_in, n_out, dr in zip(self.layers,\n",
      "                layers_types, self.layers_ins, self.layers_outs,\n",
      "                dropout_rates[1:] + [0]):  # !!! we do not dropout anything\n",
      "                                           # from the last layer !!!\n",
      "            if dr:\n",
      "                this_layer = layer_type(rng=numpy_rng,\n",
      "                        input=dropout_layer_input, n_in=n_in, n_out=n_out,\n",
      "                        W=layer.W * 1. / (1. - dr),\n",
      "                        b=layer.b * 1. / (1. - dr))\n",
      "                # N.B. dropout with dr==1 does not dropanything!!\n",
      "                this_layer.output = dropout(numpy_rng, this_layer.output, dr)\n",
      "            else:\n",
      "                this_layer = layer_type(rng=numpy_rng,\n",
      "                        input=dropout_layer_input, n_in=n_in, n_out=n_out,\n",
      "                        W=layer.W, b=layer.b)\n",
      "\n",
      "            assert hasattr(this_layer, 'output')\n",
      "            self.dropout_layers.append(this_layer)\n",
      "            dropout_layer_input = this_layer.output\n",
      "\n",
      "        assert hasattr(self.layers[-1], 'training_cost')\n",
      "        assert hasattr(self.layers[-1], 'errors')\n",
      "        # TODO standardize cost\n",
      "        # these are the dropout costs\n",
      "        self.mean_cost = self.dropout_layers[-1].negative_log_likelihood(self.y)\n",
      "        self.cost = self.dropout_layers[-1].training_cost(self.y)\n",
      "\n",
      "        # these is the non-dropout errors\n",
      "        self.errors = self.layers[-1].errors(self.y)\n",
      "\n",
      "    def __repr__(self):\n",
      "        return super(DropoutNet, self).__repr__() + \"\\n\"\\\n",
      "                + \"dropout rates: \" + str(self.dropout_rates)"
     ],
     "language": "python",
     "metadata": {},
     "outputs": [],
     "prompt_number": 19
    },
    {
     "cell_type": "code",
     "collapsed": false,
     "input": [
      "def add_fit_and_score(class_to_chg):\n",
      "    \"\"\" Mutates a class to add the fit() and score() functions to a NeuralNet.\n",
      "    \"\"\"\n",
      "    from types import MethodType\n",
      "    def fit(self, x_train, y_train, x_dev=None, y_dev=None,\n",
      "            max_epochs=20, early_stopping=True, split_ratio=0.1, # TODO 100+ epochs\n",
      "            method='adadelta', verbose=False, plot=False):\n",
      "        \"\"\"\n",
      "        TODO\n",
      "        \"\"\"\n",
      "        import time, copy\n",
      "        if x_dev == None or y_dev == None:\n",
      "            from sklearn.cross_validation import train_test_split\n",
      "            x_train, x_dev, y_train, y_dev = train_test_split(x_train, y_train,\n",
      "                    test_size=split_ratio, random_state=42)\n",
      "        if method == 'sgd':\n",
      "            train_fn = self.get_SGD_trainer()\n",
      "        elif method == 'adagrad':\n",
      "            train_fn = self.get_adagrad_trainer()\n",
      "        elif method == 'adadelta':\n",
      "            train_fn = self.get_adadelta_trainer()\n",
      "        elif method == 'adam':\n",
      "            train_fn = self.get_adam_trainer()\n",
      "        elif method == 'rmsprop':\n",
      "            train_fn = self.get_rmsprop_trainer(with_step_adapt=True,\n",
      "                    nesterov=False)\n",
      "        train_set_iterator = DatasetMiniBatchIterator(x_train, y_train)\n",
      "        dev_set_iterator = DatasetMiniBatchIterator(x_dev, y_dev)\n",
      "        train_scoref = self.score_classif(train_set_iterator)\n",
      "        dev_scoref = self.score_classif(dev_set_iterator)\n",
      "        best_dev_loss = numpy.inf\n",
      "        epoch = 0\n",
      "        # TODO early stopping (not just cross val, also stop training)\n",
      "        if plot:\n",
      "            verbose = True\n",
      "            self._costs = []\n",
      "            self._train_errors = []\n",
      "            self._dev_errors = []\n",
      "            self._updates = []\n",
      "\n",
      "        init_lr = INIT_LR\n",
      "        if method == 'rmsprop':\n",
      "            init_lr = 1.E-6  # TODO REMOVE HACK\n",
      "        n_seen = 0\n",
      "        while epoch < max_epochs:\n",
      "            #first TODO: update learning rates when not using adadelta!\n",
      "            #lr = init_lr / (1 + init_lr * L2_LAMBDA * math.log(1+n_seen))\n",
      "            #lr = init_lr / math.sqrt(1 + init_lr * L2_LAMBDA * n_seen/BATCH_SIZE) # try these\n",
      "            lr = init_lr\n",
      "            if not verbose:\n",
      "                sys.stdout.write(\"\\r%0.2f%%\" % (epoch * 100./ max_epochs))\n",
      "                sys.stdout.flush()\n",
      "            avg_costs = []\n",
      "            timer = time.time()\n",
      "            for x, y in train_set_iterator:\n",
      "                if method == 'sgd' or method == 'adagrad' or method == 'rmsprop':\n",
      "                    #avg_cost = train_fn(x, y, lr=1.E-2)\n",
      "                    avg_cost = train_fn(x, y, lr=lr)\n",
      "                elif method == 'adadelta' or method == 'adam':\n",
      "                    avg_cost = train_fn(x, y)\n",
      "                if type(avg_cost) == list:\n",
      "                    avg_costs.append(avg_cost[0])\n",
      "                else:\n",
      "                    avg_costs.append(avg_cost)\n",
      "            if verbose:\n",
      "                mean_costs = numpy.mean(avg_costs)\n",
      "                mean_train_errors = numpy.mean(train_scoref())\n",
      "                print('  epoch %i took %f seconds' %\n",
      "                      (epoch, time.time() - timer))\n",
      "                print('  epoch %i, avg costs %f' %\n",
      "                      (epoch, mean_costs))\n",
      "                print('  epoch %i, training error %f' %\n",
      "                      (epoch, mean_train_errors))\n",
      "                if plot:\n",
      "                    self._costs.append(mean_costs)\n",
      "                    self._train_errors.append(mean_train_errors)\n",
      "            dev_errors = numpy.mean(dev_scoref())\n",
      "            if plot:\n",
      "                self._dev_errors.append(dev_errors)\n",
      "            if dev_errors < best_dev_loss:\n",
      "                best_dev_loss = dev_errors\n",
      "                best_params = copy.deepcopy(self.params)\n",
      "                if verbose:\n",
      "                    print('!!!  epoch %i, validation error of best model %f' %\n",
      "                          (epoch, dev_errors))\n",
      "            epoch += 1\n",
      "            n_seen += x_train.shape[0]\n",
      "        if not verbose:\n",
      "            print(\"\")\n",
      "        for i, param in enumerate(best_params):\n",
      "            self.params[i] = param\n",
      "\n",
      "    def score(self, x, y):\n",
      "        \"\"\" error rates \"\"\"\n",
      "        iterator = DatasetMiniBatchIterator(x, y)\n",
      "        scoref = self.score_classif(iterator)\n",
      "        return numpy.mean(scoref())\n",
      "\n",
      "    class_to_chg.fit = MethodType(fit, None, class_to_chg)\n",
      "    class_to_chg.score = MethodType(score, None, class_to_chg)\n",
      "\n",
      "\n",
      "def train_models(x_train, y_train, x_test, y_test, n_features, n_outs,\n",
      "        x_dev=None, y_dev=None,\n",
      "        use_dropout=False, n_epochs=100, numpy_rng=None,\n",
      "        svms=False, nb=False, deepnn=True,\n",
      "        verbose=False, plot=False, name=''):\n",
      "    if svms:\n",
      "        print(\"Linear SVM\")\n",
      "        classifier = svm.SVC(gamma=0.001)\n",
      "        print(classifier)\n",
      "        classifier.fit(x_train, y_train)\n",
      "        print(\"score: %f\" % classifier.score(x_test, y_test))\n",
      "\n",
      "        print(\"RBF-kernel SVM\")\n",
      "        classifier = svm.SVC(kernel='rbf', class_weight='auto')\n",
      "        print(classifier)\n",
      "        classifier.fit(x_train, y_train)\n",
      "        print(\"score: %f\" % classifier.score(x_test, y_test))\n",
      "\n",
      "    if nb:\n",
      "        print(\"Multinomial Naive Bayes\")\n",
      "        classifier = naive_bayes.MultinomialNB()\n",
      "        print(classifier)\n",
      "        classifier.fit(x_train, y_train)\n",
      "        print(\"score: %f\" % classifier.score(x_test, y_test))\n",
      "\n",
      "    if deepnn:\n",
      "        import warnings\n",
      "        warnings.filterwarnings(\"ignore\")  # TODO remove\n",
      "\n",
      "        if use_dropout:\n",
      "            n_epochs *= 4\n",
      "            pass\n",
      "\n",
      "        def new_dnn(dropout=False):\n",
      "            if dropout:\n",
      "                print(\"Dropout DNN\")\n",
      "                return DropoutNet(numpy_rng=numpy_rng, n_ins=n_features,\n",
      "                    layers_types=[ReLU, ReLU, ReLU, ReLU, LogisticRegression],\n",
      "                    layers_sizes=[2000, 2000, 2000, 2000],\n",
      "                    dropout_rates=[0.2, 0.5, 0.5, 0.5, 0.5],\n",
      "                    n_outs=n_outs,\n",
      "                    debugprint=0)\n",
      "            else:\n",
      "                print(\"Simple (regularized) DNN\")\n",
      "                return RegularizedNet(numpy_rng=numpy_rng, n_ins=n_features,\n",
      "                    layers_types=[LogisticRegression],\n",
      "                    layers_sizes=[],\n",
      "                    #layers_types=[ReLU, ReLU, ReLU, LogisticRegression],\n",
      "                    #layers_sizes=[1000, 1000, 1000],\n",
      "                    #layers_types=[ReLU, LogisticRegression],\n",
      "                    #layers_sizes=[200],\n",
      "                    n_outs=n_outs,\n",
      "                    L1_reg=0.,\n",
      "                    L2_reg=L2_LAMBDA,\n",
      "                    debugprint=1)\n",
      "\n",
      "        import matplotlib.pyplot as plt\n",
      "        fig = plt.gcf() #plt.figure()\n",
      "        fig.set_size_inches(16,10)\n",
      "        ax1 = plt.subplot(221)\n",
      "        ax2 = plt.subplot(222)\n",
      "        ax3 = plt.subplot(223)\n",
      "        ax4 = plt.subplot(224)  # TODO updates of the weights\n",
      "        #methods = ['sgd', 'adagrad', 'adadelta']\n",
      "        methods = ['adam', 'adadelta']\n",
      "        #methods = ['rmsprop', 'adadelta', 'adagrad']\n",
      "        for method in methods:\n",
      "            dnn = new_dnn(use_dropout)\n",
      "            print dnn\n",
      "            dnn.fit(x_train, y_train, x_dev, y_dev, max_epochs=n_epochs,\n",
      "                    method=method, verbose=verbose, plot=plot)\n",
      "            test_error = dnn.score(x_test, y_test)\n",
      "            print(\"score: %f\" % (1. - test_error))\n",
      "            ax1.plot(numpy.log10(dnn._costs), label=method)\n",
      "            #ax2.plot(numpy.log10(dnn._train_errors), label=method)\n",
      "            #ax3.plot(numpy.log10(dnn._dev_errors), label=method)\n",
      "            ax2.plot(dnn._train_errors, label=method)\n",
      "            ax3.plot(dnn._dev_errors, label=method)\n",
      "            #ax4.plot(dnn._updates, label=method) TODO\n",
      "            ax4.plot([test_error for _ in range(10)], label=method)\n",
      "        ax1.set_xlabel('epoch')\n",
      "        ax1.set_ylabel('cost (log10)')\n",
      "        ax2.set_xlabel('epoch')\n",
      "        ax2.set_ylabel('train error')\n",
      "        ax3.set_xlabel('epoch')\n",
      "        ax3.set_ylabel('dev error')\n",
      "        ax4.set_ylabel('test error')\n",
      "        plt.legend()\n",
      "        plt.tight_layout()\n",
      "        plt.show()\n"
     ],
     "language": "python",
     "metadata": {},
     "outputs": [],
     "prompt_number": 20
    },
    {
     "cell_type": "code",
     "collapsed": false,
     "input": [
      "#main function\n",
      "\n",
      "def run():\n",
      "    add_fit_and_score(DropoutNet)\n",
      "    add_fit_and_score(RegularizedNet)\n",
      "    from sklearn import datasets, svm, naive_bayes\n",
      "    from sklearn import cross_validation, preprocessing\n",
      "    \n",
      "\n",
      "    if MNIST:\n",
      "        from sklearn.datasets import fetch_mldata\n",
      "        mnist = fetch_mldata('MNIST original')\n",
      "        X = numpy.asarray(mnist.data, dtype='float32')\n",
      "        #X = preprocessing.scale(X)\n",
      "        X /= 255.\n",
      "        y = numpy.asarray(mnist.target, dtype='int32')\n",
      "        print(\"Total dataset size:\")\n",
      "        print(\"n samples: %d\" % X.shape[0])\n",
      "        print(\"n features: %d\" % X.shape[1])\n",
      "        print(\"n classes: %d\" % len(set(y)))\n",
      "        x_train, x_test = X[:-10000], X[-10000:]\n",
      "        y_train, y_test = y[:-10000], y[-10000:]\n",
      "\n",
      "        train_models(x_train, y_train, x_test, y_test, X.shape[1],\n",
      "                     len(set(y)), numpy_rng=numpy.random.RandomState(123),\n",
      "                     use_dropout=False, n_epochs=30,\n",
      "                     verbose=True, plot=True, name='mnist_L2')\n",
      "        #train_models(x_train, y_train, x_test, y_test, X.shape[1],\n",
      "        #             len(set(y)), numpy_rng=numpy.random.RandomState(123),\n",
      "        #             use_dropout=True,\n",
      "        #             verbose=True, plot=True, name='mnist_dropout')\n",
      "\n",
      "    if DIGITS:\n",
      "        digits = datasets.load_digits()\n",
      "        data = numpy.asarray(digits.data, dtype='float32')\n",
      "        target = numpy.asarray(digits.target, dtype='int32')\n",
      "        x = preprocessing.scale(data)\n",
      "        x_train, x_test, y_train, y_test = cross_validation.train_test_split(\n",
      "                x, target, test_size=0.2, random_state=42)\n",
      "        train_models(x_train, y_train, x_test, y_test, x.shape[1],\n",
      "                     len(set(target)), numpy_rng=numpy.random.RandomState(123),\n",
      "                     verbose=True, plot=True, name='digits')\n",
      "\n",
      "    if FACES:\n",
      "        import logging\n",
      "        logging.basicConfig(level=logging.INFO,\n",
      "                            format='%(asctime)s %(message)s')\n",
      "        lfw_people = datasets.fetch_lfw_people(min_faces_per_person=70,\n",
      "                                               resize=0.4)\n",
      "        X = numpy.asarray(lfw_people.data, dtype='float32')\n",
      "        X = preprocessing.scale(X)\n",
      "        y = numpy.asarray(lfw_people.target, dtype='int32')\n",
      "        target_names = lfw_people.target_names\n",
      "        print(\"Total dataset size:\")\n",
      "        print(\"n samples: %d\" % X.shape[0])\n",
      "        print(\"n features: %d\" % X.shape[1])\n",
      "        print(\"n classes: %d\" % target_names.shape[0])\n",
      "        x_train, x_test, y_train, y_test = cross_validation.train_test_split(\n",
      "                    X, y, test_size=0.2, random_state=42)\n",
      "\n",
      "        train_models(x_train, y_train, x_test, y_test, X.shape[1],\n",
      "                     len(set(y)), numpy_rng=numpy.random.RandomState(123),\n",
      "                     verbose=True, plot=True, name='faces')\n",
      "\n",
      "    if TWENTYNEWSGROUPS:\n",
      "        from sklearn.feature_extraction.text import TfidfVectorizer\n",
      "        newsgroups_train = datasets.fetch_20newsgroups(subset='train')\n",
      "        vectorizer = TfidfVectorizer(encoding='latin-1', max_features=10000)\n",
      "        #vectorizer = HashingVectorizer(encoding='latin-1')\n",
      "        x_train = vectorizer.fit_transform(newsgroups_train.data)\n",
      "        x_train = numpy.asarray(x_train.todense(), dtype='float32')\n",
      "        y_train = numpy.asarray(newsgroups_train.target, dtype='int32')\n",
      "        newsgroups_test = datasets.fetch_20newsgroups(subset='test')\n",
      "        x_test = vectorizer.transform(newsgroups_test.data)\n",
      "        x_test = numpy.asarray(x_test.todense(), dtype='float32')\n",
      "        y_test = numpy.asarray(newsgroups_test.target, dtype='int32')\n",
      "        train_models(x_train, y_train, x_test, y_test, x_train.shape[1],\n",
      "                     len(set(y_train)),\n",
      "                     numpy_rng=numpy.random.RandomState(123),\n",
      "                     svms=False, nb=True, deepnn=True,\n",
      "                     verbose=True, plot=True, name='20newsgroups')\n"
     ],
     "language": "python",
     "metadata": {},
     "outputs": [],
     "prompt_number": 21
    },
    {
     "cell_type": "code",
     "collapsed": false,
     "input": [
      "run()"
     ],
     "language": "python",
     "metadata": {},
     "outputs": [
      {
       "output_type": "stream",
       "stream": "stdout",
       "text": [
        "Total dataset size:\n",
        "n samples: 70000\n",
        "n features: 784\n",
        "n classes: 10\n",
        "Simple (regularized) DNN"
       ]
      },
      {
       "output_type": "stream",
       "stream": "stdout",
       "text": [
        "\n",
        "LogisticRegression_784x10"
       ]
      },
      {
       "output_type": "stream",
       "stream": "stdout",
       "text": [
        "\n",
        "  epoch 0 took 0.269893 seconds"
       ]
      },
      {
       "output_type": "stream",
       "stream": "stdout",
       "text": [
        "\n",
        "  epoch 0, avg costs 1.243363\n",
        "  epoch 0, training error 0.155833\n",
        "!!!  epoch 0, validation error of best model 0.153500\n",
        "  epoch 1 took 0.297565 seconds"
       ]
      },
      {
       "output_type": "stream",
       "stream": "stdout",
       "text": [
        "\n",
        "  epoch 1, avg costs 0.633141\n",
        "  epoch 1, training error 0.126481\n",
        "!!!  epoch 1, validation error of best model 0.126500\n",
        "  epoch 2 took 0.285746 seconds"
       ]
      },
      {
       "output_type": "stream",
       "stream": "stdout",
       "text": [
        "\n",
        "  epoch 2, avg costs 0.492538\n",
        "  epoch 2, training error 0.112778\n",
        "!!!  epoch 2, validation error of best model 0.115833\n",
        "  epoch 3 took 0.299956 seconds"
       ]
      },
      {
       "output_type": "stream",
       "stream": "stdout",
       "text": [
        "\n",
        "  epoch 3, avg costs 0.428124\n",
        "  epoch 3, training error 0.104481\n",
        "!!!  epoch 3, validation error of best model 0.109833\n",
        "  epoch 4 took 0.291172 seconds"
       ]
      },
      {
       "output_type": "stream",
       "stream": "stdout",
       "text": [
        "\n",
        "  epoch 4, avg costs 0.390489\n",
        "  epoch 4, training error 0.099389\n",
        "!!!  epoch 4, validation error of best model 0.103000\n",
        "  epoch 5 took 0.316594 seconds"
       ]
      },
      {
       "output_type": "stream",
       "stream": "stdout",
       "text": [
        "\n",
        "  epoch 5, avg costs 0.365602\n",
        "  epoch 5, training error 0.095093\n",
        "!!!  epoch 5, validation error of best model 0.099667\n",
        "  epoch 6 took 0.281905 seconds"
       ]
      },
      {
       "output_type": "stream",
       "stream": "stdout",
       "text": [
        "\n",
        "  epoch 6, avg costs 0.347869\n",
        "  epoch 6, training error 0.091426\n",
        "!!!  epoch 6, validation error of best model 0.097167\n",
        "  epoch 7 took 0.281674 seconds"
       ]
      },
      {
       "output_type": "stream",
       "stream": "stdout",
       "text": [
        "\n",
        "  epoch 7, avg costs 0.334582\n",
        "  epoch 7, training error 0.089111\n",
        "!!!  epoch 7, validation error of best model 0.094500\n",
        "  epoch 8 took 0.288380 seconds"
       ]
      },
      {
       "output_type": "stream",
       "stream": "stdout",
       "text": [
        "\n",
        "  epoch 8, avg costs 0.324257\n",
        "  epoch 8, training error 0.086981\n",
        "!!!  epoch 8, validation error of best model 0.093000\n",
        "  epoch 9 took 0.286906 seconds"
       ]
      },
      {
       "output_type": "stream",
       "stream": "stdout",
       "text": [
        "\n",
        "  epoch 9, avg costs 0.316005\n",
        "  epoch 9, training error 0.085222\n",
        "!!!  epoch 9, validation error of best model 0.092000\n",
        "  epoch 10 took 0.292030 seconds"
       ]
      },
      {
       "output_type": "stream",
       "stream": "stdout",
       "text": [
        "\n",
        "  epoch 10, avg costs 0.309255\n",
        "  epoch 10, training error 0.083815\n",
        "!!!  epoch 10, validation error of best model 0.090500\n",
        "  epoch 11 took 0.279655 seconds"
       ]
      },
      {
       "output_type": "stream",
       "stream": "stdout",
       "text": [
        "\n",
        "  epoch 11, avg costs 0.303626\n",
        "  epoch 11, training error 0.082685\n",
        "!!!  epoch 11, validation error of best model 0.089000\n",
        "  epoch 12 took 0.294217 seconds"
       ]
      },
      {
       "output_type": "stream",
       "stream": "stdout",
       "text": [
        "\n",
        "  epoch 12, avg costs 0.298852\n",
        "  epoch 12, training error 0.081741\n",
        "!!!  epoch 12, validation error of best model 0.088667\n",
        "  epoch 13 took 0.304461 seconds"
       ]
      },
      {
       "output_type": "stream",
       "stream": "stdout",
       "text": [
        "\n",
        "  epoch 13, avg costs 0.294745\n",
        "  epoch 13, training error 0.080519\n",
        "!!!  epoch 13, validation error of best model 0.087167\n",
        "  epoch 14 took 0.279682 seconds"
       ]
      },
      {
       "output_type": "stream",
       "stream": "stdout",
       "text": [
        "\n",
        "  epoch 14, avg costs 0.291166\n",
        "  epoch 14, training error 0.079500\n",
        "!!!  epoch 14, validation error of best model 0.086667\n",
        "  epoch 15 took 0.277173 seconds"
       ]
      },
      {
       "output_type": "stream",
       "stream": "stdout",
       "text": [
        "\n",
        "  epoch 15, avg costs 0.288012\n",
        "  epoch 15, training error 0.078667\n",
        "!!!  epoch 15, validation error of best model 0.086167\n",
        "  epoch 16 took 0.293082 seconds"
       ]
      },
      {
       "output_type": "stream",
       "stream": "stdout",
       "text": [
        "\n",
        "  epoch 16, avg costs 0.285206\n",
        "  epoch 16, training error 0.078111\n",
        "!!!  epoch 16, validation error of best model 0.085667\n",
        "  epoch 17 took 0.302496 seconds"
       ]
      },
      {
       "output_type": "stream",
       "stream": "stdout",
       "text": [
        "\n",
        "  epoch 17, avg costs 0.282688\n",
        "  epoch 17, training error 0.077463\n",
        "!!!  epoch 17, validation error of best model 0.085167\n",
        "  epoch 18 took 0.283735 seconds"
       ]
      },
      {
       "output_type": "stream",
       "stream": "stdout",
       "text": [
        "\n",
        "  epoch 18, avg costs 0.280410\n",
        "  epoch 18, training error 0.076889\n",
        "!!!  epoch 18, validation error of best model 0.084667\n",
        "  epoch 19 took 0.287550 seconds"
       ]
      },
      {
       "output_type": "stream",
       "stream": "stdout",
       "text": [
        "\n",
        "  epoch 19, avg costs 0.278337\n",
        "  epoch 19, training error 0.076574\n",
        "!!!  epoch 19, validation error of best model 0.084500\n",
        "  epoch 20 took 0.281636 seconds"
       ]
      },
      {
       "output_type": "stream",
       "stream": "stdout",
       "text": [
        "\n",
        "  epoch 20, avg costs 0.276438\n",
        "  epoch 20, training error 0.076111\n",
        "!!!  epoch 20, validation error of best model 0.083833\n",
        "  epoch 21 took 0.289907 seconds"
       ]
      },
      {
       "output_type": "stream",
       "stream": "stdout",
       "text": [
        "\n",
        "  epoch 21, avg costs 0.274690\n",
        "  epoch 21, training error 0.075519\n",
        "  epoch 22 took 0.290426 seconds"
       ]
      },
      {
       "output_type": "stream",
       "stream": "stdout",
       "text": [
        "\n",
        "  epoch 22, avg costs 0.273072\n",
        "  epoch 22, training error 0.075111\n",
        "!!!  epoch 22, validation error of best model 0.083500\n",
        "  epoch 23 took 0.283991 seconds"
       ]
      },
      {
       "output_type": "stream",
       "stream": "stdout",
       "text": [
        "\n",
        "  epoch 23, avg costs 0.271569\n",
        "  epoch 23, training error 0.074741\n",
        "  epoch 24 took 0.276365 seconds"
       ]
      },
      {
       "output_type": "stream",
       "stream": "stdout",
       "text": [
        "\n",
        "  epoch 24, avg costs 0.270167\n",
        "  epoch 24, training error 0.074352\n",
        "  epoch 25 took 0.326764 seconds"
       ]
      },
      {
       "output_type": "stream",
       "stream": "stdout",
       "text": [
        "\n",
        "  epoch 25, avg costs 0.268854\n",
        "  epoch 25, training error 0.073870\n",
        "  epoch 26 took 0.307149 seconds"
       ]
      },
      {
       "output_type": "stream",
       "stream": "stdout",
       "text": [
        "\n",
        "  epoch 26, avg costs 0.267622\n",
        "  epoch 26, training error 0.073667\n",
        "!!!  epoch 26, validation error of best model 0.083167\n",
        "  epoch 27 took 0.313843 seconds"
       ]
      },
      {
       "output_type": "stream",
       "stream": "stdout",
       "text": [
        "\n",
        "  epoch 27, avg costs 0.266461\n",
        "  epoch 27, training error 0.073296\n",
        "!!!  epoch 27, validation error of best model 0.082833\n",
        "  epoch 28 took 0.289039 seconds"
       ]
      },
      {
       "output_type": "stream",
       "stream": "stdout",
       "text": [
        "\n",
        "  epoch 28, avg costs 0.265364\n",
        "  epoch 28, training error 0.073111\n",
        "  epoch 29 took 0.280149 seconds"
       ]
      },
      {
       "output_type": "stream",
       "stream": "stdout",
       "text": [
        "\n",
        "  epoch 29, avg costs 0.264326\n",
        "  epoch 29, training error 0.072611\n",
        "!!!  epoch 29, validation error of best model 0.082667\n",
        "score: 0.924200"
       ]
      },
      {
       "output_type": "stream",
       "stream": "stdout",
       "text": [
        "\n",
        "Simple (regularized) DNN\n",
        "LogisticRegression_784x10"
       ]
      },
      {
       "output_type": "stream",
       "stream": "stdout",
       "text": [
        "\n",
        "  epoch 0 took 0.311120 seconds"
       ]
      },
      {
       "output_type": "stream",
       "stream": "stdout",
       "text": [
        "\n",
        "  epoch 0, avg costs 0.923582\n",
        "  epoch 0, training error 0.128704\n",
        "!!!  epoch 0, validation error of best model 0.130167\n",
        "  epoch 1 took 0.320057 seconds"
       ]
      },
      {
       "output_type": "stream",
       "stream": "stdout",
       "text": [
        "\n",
        "  epoch 1, avg costs 0.452976\n",
        "  epoch 1, training error 0.105963\n",
        "!!!  epoch 1, validation error of best model 0.109500\n",
        "  epoch 2 took 0.326817 seconds"
       ]
      },
      {
       "output_type": "stream",
       "stream": "stdout",
       "text": [
        "\n",
        "  epoch 2, avg costs 0.378660\n",
        "  epoch 2, training error 0.097426\n",
        "!!!  epoch 2, validation error of best model 0.102000\n",
        "  epoch 3 took 0.308853 seconds"
       ]
      },
      {
       "output_type": "stream",
       "stream": "stdout",
       "text": [
        "\n",
        "  epoch 3, avg costs 0.348301\n",
        "  epoch 3, training error 0.092667\n",
        "!!!  epoch 3, validation error of best model 0.097333\n",
        "  epoch 4 took 0.327724 seconds"
       ]
      },
      {
       "output_type": "stream",
       "stream": "stdout",
       "text": [
        "\n",
        "  epoch 4, avg costs 0.331119\n",
        "  epoch 4, training error 0.089056\n",
        "!!!  epoch 4, validation error of best model 0.094667\n",
        "  epoch 5 took 0.311835 seconds"
       ]
      },
      {
       "output_type": "stream",
       "stream": "stdout",
       "text": [
        "\n",
        "  epoch 5, avg costs 0.319697\n",
        "  epoch 5, training error 0.086667\n",
        "!!!  epoch 5, validation error of best model 0.092833\n",
        "  epoch 6 took 0.324327 seconds"
       ]
      },
      {
       "output_type": "stream",
       "stream": "stdout",
       "text": [
        "\n",
        "  epoch 6, avg costs 0.311373\n",
        "  epoch 6, training error 0.084944\n",
        "!!!  epoch 6, validation error of best model 0.091500\n",
        "  epoch 7 took 0.327300 seconds"
       ]
      },
      {
       "output_type": "stream",
       "stream": "stdout",
       "text": [
        "\n",
        "  epoch 7, avg costs 0.304943\n",
        "  epoch 7, training error 0.083370\n",
        "!!!  epoch 7, validation error of best model 0.089667\n",
        "  epoch 8 took 0.313637 seconds"
       ]
      },
      {
       "output_type": "stream",
       "stream": "stdout",
       "text": [
        "\n",
        "  epoch 8, avg costs 0.299771\n",
        "  epoch 8, training error 0.082148\n",
        "!!!  epoch 8, validation error of best model 0.088500\n",
        "  epoch 9 took 0.306343 seconds"
       ]
      },
      {
       "output_type": "stream",
       "stream": "stdout",
       "text": [
        "\n",
        "  epoch 9, avg costs 0.295485\n",
        "  epoch 9, training error 0.081315\n",
        "!!!  epoch 9, validation error of best model 0.087833\n",
        "  epoch 10 took 0.329969 seconds"
       ]
      },
      {
       "output_type": "stream",
       "stream": "stdout",
       "text": [
        "\n",
        "  epoch 10, avg costs 0.291853\n",
        "  epoch 10, training error 0.080315\n",
        "!!!  epoch 10, validation error of best model 0.087667\n",
        "  epoch 11 took 0.311047 seconds"
       ]
      },
      {
       "output_type": "stream",
       "stream": "stdout",
       "text": [
        "\n",
        "  epoch 11, avg costs 0.288719\n",
        "  epoch 11, training error 0.079463\n",
        "!!!  epoch 11, validation error of best model 0.087333\n",
        "  epoch 12 took 0.306574 seconds"
       ]
      },
      {
       "output_type": "stream",
       "stream": "stdout",
       "text": [
        "\n",
        "  epoch 12, avg costs 0.285976\n",
        "  epoch 12, training error 0.078556\n",
        "!!!  epoch 12, validation error of best model 0.087000\n",
        "  epoch 13 took 0.318012 seconds"
       ]
      },
      {
       "output_type": "stream",
       "stream": "stdout",
       "text": [
        "\n",
        "  epoch 13, avg costs 0.283545\n",
        "  epoch 13, training error 0.077926\n",
        "!!!  epoch 13, validation error of best model 0.086500\n",
        "  epoch 14 took 0.318956 seconds"
       ]
      },
      {
       "output_type": "stream",
       "stream": "stdout",
       "text": [
        "\n",
        "  epoch 14, avg costs 0.281369\n",
        "  epoch 14, training error 0.077148\n",
        "!!!  epoch 14, validation error of best model 0.085833\n",
        "  epoch 15 took 0.307148 seconds"
       ]
      },
      {
       "output_type": "stream",
       "stream": "stdout",
       "text": [
        "\n",
        "  epoch 15, avg costs 0.279405\n",
        "  epoch 15, training error 0.076315\n",
        "!!!  epoch 15, validation error of best model 0.085667\n",
        "  epoch 16 took 0.307458 seconds"
       ]
      },
      {
       "output_type": "stream",
       "stream": "stdout",
       "text": [
        "\n",
        "  epoch 16, avg costs 0.277618\n",
        "  epoch 16, training error 0.075815\n",
        "!!!  epoch 16, validation error of best model 0.085333\n",
        "  epoch 17 took 0.312092 seconds"
       ]
      },
      {
       "output_type": "stream",
       "stream": "stdout",
       "text": [
        "\n",
        "  epoch 17, avg costs 0.275983\n",
        "  epoch 17, training error 0.075426\n",
        "!!!  epoch 17, validation error of best model 0.085000\n",
        "  epoch 18 took 0.304722 seconds"
       ]
      },
      {
       "output_type": "stream",
       "stream": "stdout",
       "text": [
        "\n",
        "  epoch 18, avg costs 0.274479\n",
        "  epoch 18, training error 0.074926\n",
        "  epoch 19 took 0.311247 seconds"
       ]
      },
      {
       "output_type": "stream",
       "stream": "stdout",
       "text": [
        "\n",
        "  epoch 19, avg costs 0.273086\n",
        "  epoch 19, training error 0.074463\n",
        "  epoch 20 took 0.340049 seconds"
       ]
      },
      {
       "output_type": "stream",
       "stream": "stdout",
       "text": [
        "\n",
        "  epoch 20, avg costs 0.271793\n",
        "  epoch 20, training error 0.074241\n",
        "  epoch 21 took 0.307233 seconds"
       ]
      },
      {
       "output_type": "stream",
       "stream": "stdout",
       "text": [
        "\n",
        "  epoch 21, avg costs 0.270587\n",
        "  epoch 21, training error 0.073889\n",
        "!!!  epoch 21, validation error of best model 0.084833\n",
        "  epoch 22 took 0.347523 seconds"
       ]
      },
      {
       "output_type": "stream",
       "stream": "stdout",
       "text": [
        "\n",
        "  epoch 22, avg costs 0.269458\n",
        "  epoch 22, training error 0.073574\n",
        "  epoch 23 took 0.324835 seconds"
       ]
      },
      {
       "output_type": "stream",
       "stream": "stdout",
       "text": [
        "\n",
        "  epoch 23, avg costs 0.268398\n",
        "  epoch 23, training error 0.073204\n",
        "!!!  epoch 23, validation error of best model 0.083667\n",
        "  epoch 24 took 0.360615 seconds"
       ]
      },
      {
       "output_type": "stream",
       "stream": "stdout",
       "text": [
        "\n",
        "  epoch 24, avg costs 0.267400\n",
        "  epoch 24, training error 0.072704\n",
        "!!!  epoch 24, validation error of best model 0.083500\n",
        "  epoch 25 took 0.377638 seconds"
       ]
      },
      {
       "output_type": "stream",
       "stream": "stdout",
       "text": [
        "\n",
        "  epoch 25, avg costs 0.266457\n",
        "  epoch 25, training error 0.072611\n",
        "  epoch 26 took 0.306555 seconds"
       ]
      },
      {
       "output_type": "stream",
       "stream": "stdout",
       "text": [
        "\n",
        "  epoch 26, avg costs 0.265566\n",
        "  epoch 26, training error 0.072370\n",
        "!!!  epoch 26, validation error of best model 0.083167\n",
        "  epoch 27 took 0.309302 seconds"
       ]
      },
      {
       "output_type": "stream",
       "stream": "stdout",
       "text": [
        "\n",
        "  epoch 27, avg costs 0.264720\n",
        "  epoch 27, training error 0.072185\n",
        "  epoch 28 took 0.333637 seconds"
       ]
      },
      {
       "output_type": "stream",
       "stream": "stdout",
       "text": [
        "\n",
        "  epoch 28, avg costs 0.263916\n",
        "  epoch 28, training error 0.071907\n",
        "  epoch 29 took 0.324232 seconds"
       ]
      },
      {
       "output_type": "stream",
       "stream": "stdout",
       "text": [
        "\n",
        "  epoch 29, avg costs 0.263151\n",
        "  epoch 29, training error 0.071722\n",
        "score: 0.924300"
       ]
      },
      {
       "output_type": "stream",
       "stream": "stdout",
       "text": [
        "\n"
       ]
      },
      {
       "metadata": {},
       "output_type": "display_data",
       "png": "[encoded data removed]",
       "text": [
        "<matplotlib.figure.Figure at 0x1118faa10>"
       ]
      }
     ],
     "prompt_number": 22
    }
   ],
   "metadata": {}
  }
 ]
}